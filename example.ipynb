{
 "metadata": {
  "language_info": {
   "codemirror_mode": {
    "name": "ipython",
    "version": 3
   },
   "file_extension": ".py",
   "mimetype": "text/x-python",
   "name": "python",
   "nbconvert_exporter": "python",
   "pygments_lexer": "ipython3",
   "version": "3.8.5"
  },
  "orig_nbformat": 2,
  "kernelspec": {
   "name": "python385jvsc74a57bd0dca0ade3e726a953b501b15e8e990130d2b7799f14cfd9f4271676035ebe5511",
   "display_name": "Python 3.8.5 64-bit (conda)"
  }
 },
 "nbformat": 4,
 "nbformat_minor": 2,
 "cells": [
  {
   "cell_type": "code",
   "execution_count": 2,
   "metadata": {},
   "outputs": [
    {
     "output_type": "stream",
     "name": "stdout",
     "text": [
      "The autoreload extension is already loaded. To reload it, use:\n",
      "  %reload_ext autoreload\n",
      "INFO:pytorch_pretrained_biggan.model:loading model biggan-deep-128 from cache at /Users/xuejiaxin/.pytorch_pretrained_biggan/6371c3777477e4e75187da1b9b526561aac3134f38c7299a3438009ae560e20d.3434ebdfa74a8c17e0e56061cfd905fa163c92f110e88df77b47da6ce9910b48\n",
      "INFO:pytorch_pretrained_biggan.model:Model config {\n",
      "  \"attention_layer_position\": 8,\n",
      "  \"channel_width\": 128,\n",
      "  \"class_embed_dim\": 128,\n",
      "  \"eps\": 0.0001,\n",
      "  \"layers\": [\n",
      "    [\n",
      "      false,\n",
      "      16,\n",
      "      16\n",
      "    ],\n",
      "    [\n",
      "      true,\n",
      "      16,\n",
      "      16\n",
      "    ],\n",
      "    [\n",
      "      false,\n",
      "      16,\n",
      "      16\n",
      "    ],\n",
      "    [\n",
      "      true,\n",
      "      16,\n",
      "      8\n",
      "    ],\n",
      "    [\n",
      "      false,\n",
      "      8,\n",
      "      8\n",
      "    ],\n",
      "    [\n",
      "      true,\n",
      "      8,\n",
      "      4\n",
      "    ],\n",
      "    [\n",
      "      false,\n",
      "      4,\n",
      "      4\n",
      "    ],\n",
      "    [\n",
      "      true,\n",
      "      4,\n",
      "      2\n",
      "    ],\n",
      "    [\n",
      "      false,\n",
      "      2,\n",
      "      2\n",
      "    ],\n",
      "    [\n",
      "      true,\n",
      "      2,\n",
      "      1\n",
      "    ]\n",
      "  ],\n",
      "  \"n_stats\": 51,\n",
      "  \"num_classes\": 1000,\n",
      "  \"output_dim\": 128,\n",
      "  \"z_dim\": 128\n",
      "}\n",
      "\n",
      "INFO:pytorch_pretrained_biggan.utils:Saving image to output_0.png\n"
     ]
    }
   ],
   "source": [
    "%load_ext autoreload\n",
    "%autoreload 2\n",
    "\n",
    "# target image\n",
    "import torch\n",
    "from pytorch_pretrained_biggan import (BigGAN, one_hot_from_names, truncated_noise_sample,\n",
    "                                       save_as_images, display_in_terminal)\n",
    "\n",
    "import logging\n",
    "logging.basicConfig(level=logging.INFO)\n",
    "\n",
    "model = BigGAN.from_pretrained('biggan-deep-128')\n",
    "\n",
    "truncation = 0.5\n",
    "class_vector = one_hot_from_names([\"chimpanzee\"], batch_size=1)\n",
    "noise_vector = truncated_noise_sample(truncation=truncation, batch_size=1, seed = 10)\n",
    "\n",
    "noise_vector = torch.from_numpy(noise_vector)\n",
    "class_vector = torch.from_numpy(class_vector)\n",
    "\n",
    "\n",
    "with torch.no_grad():\n",
    "    output = model(noise_vector, class_vector, truncation)\n",
    "\n",
    "save_as_images(output)\n"
   ]
  },
  {
   "cell_type": "code",
   "execution_count": 4,
   "metadata": {},
   "outputs": [
    {
     "output_type": "execute_result",
     "data": {
      "text/plain": [
       "torch.Size([1, 1000])"
      ]
     },
     "metadata": {},
     "execution_count": 4
    }
   ],
   "source": [
    "class_vector.shape"
   ]
  },
  {
   "cell_type": "code",
   "execution_count": 5,
   "metadata": {},
   "outputs": [
    {
     "output_type": "execute_result",
     "data": {
      "text/plain": [
       "torch.Size([1, 3, 128, 128])"
      ]
     },
     "metadata": {},
     "execution_count": 5
    }
   ],
   "source": [
    "from PIL import Image\n",
    "from torchvision import transforms\n",
    "\n",
    "img = Image.open(\"./img02.jpg\")\n",
    "einstein = transforms.ToTensor()(img).unsqueeze_(0)\n",
    "einstein.shape"
   ]
  },
  {
   "cell_type": "code",
   "execution_count": 14,
   "metadata": {},
   "outputs": [
    {
     "output_type": "execute_result",
     "data": {
      "text/plain": [
       "torch.Size([1, 1000])"
      ]
     },
     "metadata": {},
     "execution_count": 14
    }
   ],
   "source": [
    "class_vector.shape"
   ]
  },
  {
   "cell_type": "code",
   "execution_count": 3,
   "metadata": {},
   "outputs": [
    {
     "output_type": "execute_result",
     "data": {
      "text/plain": [
       "torch.Size([1, 3, 128, 128])"
      ]
     },
     "metadata": {},
     "execution_count": 3
    }
   ],
   "source": [
    "from PIL import Image\n",
    "from torchvision import transforms\n",
    "\n",
    "img = Image.open(\"./img02.jpg\")\n",
    "einstein = transforms.ToTensor()(img).unsqueeze_(0)\n",
    "einstein.shape\n"
   ]
  },
  {
   "cell_type": "code",
   "execution_count": 4,
   "metadata": {},
   "outputs": [],
   "source": [
    "from tqdm import trange"
   ]
  },
  {
   "cell_type": "code",
   "execution_count": 4,
   "metadata": {},
   "outputs": [],
   "source": [
    "class_vector = one_hot_from_names(['macaque'], batch_size=1)\n",
    "class_vector = torch.from_numpy(class_vector)"
   ]
  },
  {
   "cell_type": "code",
   "execution_count": 5,
   "metadata": {},
   "outputs": [],
   "source": [
    "DEVICE = 'cpu'\n",
    "\n",
    "model = model.eval().to(DEVICE)"
   ]
  },
  {
   "cell_type": "code",
   "execution_count": 15,
   "metadata": {},
   "outputs": [
    {
     "output_type": "execute_result",
     "data": {
      "text/plain": [
       "Parameter containing:\n",
       "tensor([[ 0.3515, -0.8609,  0.1627,  0.3178, -0.0018, -0.3575, -0.4001,  0.3352,\n",
       "         -0.4498, -0.6211,  0.2296,  0.7483, -0.9673,  0.0146,  0.4180,  0.1363,\n",
       "          0.2791, -0.2603,  0.6373,  0.2691,  0.0510, -0.5004, -0.1539,  0.2147,\n",
       "         -0.0698, -0.0793,  0.1428,  0.0157,  0.1840,  0.1221,  0.4055,  0.0259,\n",
       "          0.6134, -0.2235, -0.6157, -0.2483, -0.5596,  0.4459, -0.7473,  0.1535,\n",
       "          0.0571,  0.4294, -0.3986,  0.4985, -0.1814,  0.3264, -0.2547,  0.5549,\n",
       "         -0.2152, -0.4572, -0.1300, -0.6081,  0.4325, -0.4830, -0.1405,  0.7164,\n",
       "          0.9088, -0.0524,  0.4413, -0.3175,  0.1176,  0.5989,  0.0414,  0.1088,\n",
       "         -0.7764, -0.1743, -0.6444, -0.2418, -0.2084,  0.3554, -0.7737, -0.0848,\n",
       "         -0.2292,  0.1663, -0.1882, -0.7615,  0.5461,  0.3392,  0.5422, -0.0993,\n",
       "          0.1277,  0.0161,  0.1181, -0.3018, -0.2480, -0.8374, -0.2451, -0.3313,\n",
       "          0.0691,  0.0787, -0.0298, -0.2590, -0.6891,  0.8586, -0.1967, -0.0059,\n",
       "          0.8497, -0.0711, -0.2247,  0.0237,  0.0940,  0.4928, -0.6774, -0.0425,\n",
       "          0.3680,  0.2747,  0.1036, -0.7852, -0.1826,  0.0759, -0.2496,  0.0148,\n",
       "          0.2139, -0.4679, -0.7344, -0.1992, -0.5730, -0.4325,  0.5591, -0.1640,\n",
       "         -0.3669,  0.3232, -0.5757,  0.3117, -0.0362,  0.1186, -0.4898, -0.4237]],\n",
       "       requires_grad=True)"
      ]
     },
     "metadata": {},
     "execution_count": 15
    }
   ],
   "source": [
    "noise = truncated_noise_sample(truncation=truncation, batch_size=1, seed=10)\n",
    "\n",
    "# autograd mechanic, requires gradient for input noise\n",
    "noise = torch.nn.Parameter(torch.tensor(noise, requires_grad=True).float().to(DEVICE)) \n",
    "noise"
   ]
  },
  {
   "cell_type": "code",
   "execution_count": 16,
   "metadata": {},
   "outputs": [],
   "source": [
    "noise_optim = torch.optim.Adam([noise], lr=.01) "
   ]
  },
  {
   "cell_type": "code",
   "execution_count": 17,
   "metadata": {
    "tags": []
   },
   "outputs": [
    {
     "output_type": "stream",
     "name": "stderr",
     "text": [
      "  0%|          | 0/100 [00:00<?, ?it/s]INFO:pytorch_pretrained_biggan.utils:Saving image to iter_0__0.png\n",
      "  1%|          | 1/100 [00:03<05:05,  3.09s/it]INFO:pytorch_pretrained_biggan.utils:Saving image to iter_1__0.png\n",
      "  2%|▏         | 2/100 [00:05<04:52,  2.98s/it]INFO:pytorch_pretrained_biggan.utils:Saving image to iter_2__0.png\n",
      "  3%|▎         | 3/100 [00:09<05:03,  3.12s/it]INFO:pytorch_pretrained_biggan.utils:Saving image to iter_3__0.png\n",
      "  4%|▍         | 4/100 [00:12<04:49,  3.02s/it]INFO:pytorch_pretrained_biggan.utils:Saving image to iter_4__0.png\n",
      "  5%|▌         | 5/100 [00:15<05:06,  3.22s/it]INFO:pytorch_pretrained_biggan.utils:Saving image to iter_5__0.png\n",
      "  6%|▌         | 6/100 [00:19<05:14,  3.35s/it]INFO:pytorch_pretrained_biggan.utils:Saving image to iter_6__0.png\n",
      "  7%|▋         | 7/100 [00:23<05:18,  3.43s/it]INFO:pytorch_pretrained_biggan.utils:Saving image to iter_7__0.png\n",
      "  8%|▊         | 8/100 [00:25<05:00,  3.27s/it]INFO:pytorch_pretrained_biggan.utils:Saving image to iter_8__0.png\n",
      "  9%|▉         | 9/100 [00:28<04:38,  3.06s/it]INFO:pytorch_pretrained_biggan.utils:Saving image to iter_9__0.png\n",
      " 10%|█         | 10/100 [00:31<04:21,  2.90s/it]INFO:pytorch_pretrained_biggan.utils:Saving image to iter_10__0.png\n",
      " 11%|█         | 11/100 [00:34<04:24,  2.98s/it]INFO:pytorch_pretrained_biggan.utils:Saving image to iter_11__0.png\n",
      " 12%|█▏        | 12/100 [00:36<04:15,  2.90s/it]INFO:pytorch_pretrained_biggan.utils:Saving image to iter_12__0.png\n",
      " 13%|█▎        | 13/100 [00:39<04:04,  2.82s/it]INFO:pytorch_pretrained_biggan.utils:Saving image to iter_13__0.png\n",
      " 14%|█▍        | 14/100 [00:42<03:56,  2.74s/it]INFO:pytorch_pretrained_biggan.utils:Saving image to iter_14__0.png\n",
      " 15%|█▌        | 15/100 [00:44<03:48,  2.69s/it]INFO:pytorch_pretrained_biggan.utils:Saving image to iter_15__0.png\n",
      " 16%|█▌        | 16/100 [00:47<03:43,  2.66s/it]INFO:pytorch_pretrained_biggan.utils:Saving image to iter_16__0.png\n",
      " 17%|█▋        | 17/100 [00:50<03:57,  2.86s/it]INFO:pytorch_pretrained_biggan.utils:Saving image to iter_17__0.png\n",
      " 18%|█▊        | 18/100 [00:53<03:54,  2.87s/it]INFO:pytorch_pretrained_biggan.utils:Saving image to iter_18__0.png\n",
      " 19%|█▉        | 19/100 [00:57<04:18,  3.19s/it]INFO:pytorch_pretrained_biggan.utils:Saving image to iter_19__0.png\n",
      " 20%|██        | 20/100 [01:02<05:05,  3.81s/it]INFO:pytorch_pretrained_biggan.utils:Saving image to iter_20__0.png\n",
      " 21%|██        | 21/100 [01:09<06:12,  4.71s/it]INFO:pytorch_pretrained_biggan.utils:Saving image to iter_21__0.png\n",
      " 22%|██▏       | 22/100 [01:13<06:02,  4.65s/it]INFO:pytorch_pretrained_biggan.utils:Saving image to iter_22__0.png\n",
      " 23%|██▎       | 23/100 [01:17<05:36,  4.37s/it]INFO:pytorch_pretrained_biggan.utils:Saving image to iter_23__0.png\n",
      " 24%|██▍       | 24/100 [01:20<04:58,  3.92s/it]INFO:pytorch_pretrained_biggan.utils:Saving image to iter_24__0.png\n",
      " 25%|██▌       | 25/100 [01:23<04:28,  3.58s/it]INFO:pytorch_pretrained_biggan.utils:Saving image to iter_25__0.png\n",
      " 26%|██▌       | 26/100 [01:27<04:44,  3.84s/it]INFO:pytorch_pretrained_biggan.utils:Saving image to iter_26__0.png\n",
      " 27%|██▋       | 27/100 [01:31<04:29,  3.69s/it]INFO:pytorch_pretrained_biggan.utils:Saving image to iter_27__0.png\n",
      " 28%|██▊       | 28/100 [01:34<04:09,  3.47s/it]INFO:pytorch_pretrained_biggan.utils:Saving image to iter_28__0.png\n",
      " 29%|██▉       | 29/100 [01:42<04:11,  3.54s/it]\n"
     ]
    },
    {
     "output_type": "error",
     "ename": "KeyboardInterrupt",
     "evalue": "",
     "traceback": [
      "\u001b[0;31m---------------------------------------------------------------------------\u001b[0m",
      "\u001b[0;31mKeyboardInterrupt\u001b[0m                         Traceback (most recent call last)",
      "\u001b[0;32m<ipython-input-17-1684de6833ab>\u001b[0m in \u001b[0;36m<module>\u001b[0;34m\u001b[0m\n\u001b[1;32m      8\u001b[0m \u001b[0;34m\u001b[0m\u001b[0m\n\u001b[1;32m      9\u001b[0m     \u001b[0mloss\u001b[0m \u001b[0;34m=\u001b[0m \u001b[0mabs\u001b[0m\u001b[0;34m(\u001b[0m\u001b[0my_hat\u001b[0m \u001b[0;34m-\u001b[0m \u001b[0meinstein\u001b[0m\u001b[0;34m)\u001b[0m\u001b[0;34m.\u001b[0m\u001b[0mmean\u001b[0m\u001b[0;34m(\u001b[0m\u001b[0;34m)\u001b[0m\u001b[0;34m\u001b[0m\u001b[0;34m\u001b[0m\u001b[0m\n\u001b[0;32m---> 10\u001b[0;31m     \u001b[0mloss\u001b[0m\u001b[0;34m.\u001b[0m\u001b[0mbackward\u001b[0m\u001b[0;34m(\u001b[0m\u001b[0;34m)\u001b[0m\u001b[0;34m\u001b[0m\u001b[0;34m\u001b[0m\u001b[0m\n\u001b[0m\u001b[1;32m     11\u001b[0m     \u001b[0mnoise_optim\u001b[0m\u001b[0;34m.\u001b[0m\u001b[0mstep\u001b[0m\u001b[0;34m(\u001b[0m\u001b[0;34m)\u001b[0m\u001b[0;34m\u001b[0m\u001b[0;34m\u001b[0m\u001b[0m\n\u001b[1;32m     12\u001b[0m \u001b[0;34m\u001b[0m\u001b[0m\n",
      "\u001b[0;32m/opt/anaconda3/lib/python3.8/site-packages/torch/tensor.py\u001b[0m in \u001b[0;36mbackward\u001b[0;34m(self, gradient, retain_graph, create_graph)\u001b[0m\n\u001b[1;32m    219\u001b[0m                 \u001b[0mretain_graph\u001b[0m\u001b[0;34m=\u001b[0m\u001b[0mretain_graph\u001b[0m\u001b[0;34m,\u001b[0m\u001b[0;34m\u001b[0m\u001b[0;34m\u001b[0m\u001b[0m\n\u001b[1;32m    220\u001b[0m                 create_graph=create_graph)\n\u001b[0;32m--> 221\u001b[0;31m         \u001b[0mtorch\u001b[0m\u001b[0;34m.\u001b[0m\u001b[0mautograd\u001b[0m\u001b[0;34m.\u001b[0m\u001b[0mbackward\u001b[0m\u001b[0;34m(\u001b[0m\u001b[0mself\u001b[0m\u001b[0;34m,\u001b[0m \u001b[0mgradient\u001b[0m\u001b[0;34m,\u001b[0m \u001b[0mretain_graph\u001b[0m\u001b[0;34m,\u001b[0m \u001b[0mcreate_graph\u001b[0m\u001b[0;34m)\u001b[0m\u001b[0;34m\u001b[0m\u001b[0;34m\u001b[0m\u001b[0m\n\u001b[0m\u001b[1;32m    222\u001b[0m \u001b[0;34m\u001b[0m\u001b[0m\n\u001b[1;32m    223\u001b[0m     \u001b[0;32mdef\u001b[0m \u001b[0mregister_hook\u001b[0m\u001b[0;34m(\u001b[0m\u001b[0mself\u001b[0m\u001b[0;34m,\u001b[0m \u001b[0mhook\u001b[0m\u001b[0;34m)\u001b[0m\u001b[0;34m:\u001b[0m\u001b[0;34m\u001b[0m\u001b[0;34m\u001b[0m\u001b[0m\n",
      "\u001b[0;32m/opt/anaconda3/lib/python3.8/site-packages/torch/autograd/__init__.py\u001b[0m in \u001b[0;36mbackward\u001b[0;34m(tensors, grad_tensors, retain_graph, create_graph, grad_variables)\u001b[0m\n\u001b[1;32m    128\u001b[0m         \u001b[0mretain_graph\u001b[0m \u001b[0;34m=\u001b[0m \u001b[0mcreate_graph\u001b[0m\u001b[0;34m\u001b[0m\u001b[0;34m\u001b[0m\u001b[0m\n\u001b[1;32m    129\u001b[0m \u001b[0;34m\u001b[0m\u001b[0m\n\u001b[0;32m--> 130\u001b[0;31m     Variable._execution_engine.run_backward(\n\u001b[0m\u001b[1;32m    131\u001b[0m         \u001b[0mtensors\u001b[0m\u001b[0;34m,\u001b[0m \u001b[0mgrad_tensors_\u001b[0m\u001b[0;34m,\u001b[0m \u001b[0mretain_graph\u001b[0m\u001b[0;34m,\u001b[0m \u001b[0mcreate_graph\u001b[0m\u001b[0;34m,\u001b[0m\u001b[0;34m\u001b[0m\u001b[0;34m\u001b[0m\u001b[0m\n\u001b[1;32m    132\u001b[0m         allow_unreachable=True)  # allow_unreachable flag\n",
      "\u001b[0;31mKeyboardInterrupt\u001b[0m: "
     ]
    }
   ],
   "source": [
    "# loss_fun = abs\n",
    "\n",
    "L = []\n",
    "for iteration in trange(100):\n",
    "    noise_optim.zero_grad()\n",
    "\n",
    "    y_hat = model(noise, class_vector, truncation)\n",
    "\n",
    "    loss = abs(y_hat - einstein).mean()\n",
    "    loss.backward()\n",
    "    noise_optim.step()\n",
    "\n",
    "    L.append(loss.item())\n",
    "\n",
    "    save_as_images(y_hat, f\"iter_{iteration}_\")\n",
    "\n"
   ]
  },
  {
   "cell_type": "code",
   "execution_count": null,
   "metadata": {},
   "outputs": [],
   "source": [
    "# try to apply other intersting loss fun"
   ]
  },
  {
   "cell_type": "code",
   "execution_count": 18,
   "metadata": {},
   "outputs": [],
   "source": [
    "from torchvision.models import squeezenet1_0"
   ]
  },
  {
   "cell_type": "code",
   "execution_count": 19,
   "metadata": {},
   "outputs": [],
   "source": [
    "semantic_model = squeezenet1_0(pretrained=True).to(DEVICE)"
   ]
  },
  {
   "cell_type": "code",
   "execution_count": 20,
   "metadata": {},
   "outputs": [],
   "source": [
    "#change last two layer in squeezenet\n",
    "semantic_model.classifier = torch.nn.Sequential(\n",
    "    torch.nn.Flatten()\n",
    ")"
   ]
  },
  {
   "cell_type": "code",
   "execution_count": 11,
   "metadata": {},
   "outputs": [],
   "source": [
    "semantic_model = semantic_model.eval()"
   ]
  },
  {
   "cell_type": "code",
   "execution_count": 12,
   "metadata": {},
   "outputs": [],
   "source": [
    "noise = truncated_noise_sample(truncation=truncation, batch_size=1, seed=2)\n",
    "noise = torch.nn.Parameter(torch.tensor(noise, requires_grad=True).float().to(DEVICE))\n",
    "\n",
    "noise_optim = torch.optim.Adam([noise], lr=0.1)"
   ]
  },
  {
   "cell_type": "code",
   "execution_count": 13,
   "metadata": {},
   "outputs": [],
   "source": [
    "class_vector = one_hot_from_names(['macaque'], batch_size=1)\n",
    "class_vector = torch.from_numpy(class_vector)"
   ]
  },
  {
   "cell_type": "code",
   "execution_count": 14,
   "metadata": {
    "tags": []
   },
   "outputs": [
    {
     "output_type": "stream",
     "name": "stderr",
     "text": [
      "  0%|          | 0/100 [00:00<?, ?it/s]INFO:pytorch_pretrained_biggan.utils:Saving image to Einstein_iter_0_0.png\n",
      "  1%|          | 1/100 [00:04<06:42,  4.07s/it]INFO:pytorch_pretrained_biggan.utils:Saving image to Einstein_iter_1_0.png\n",
      "  2%|▏         | 2/100 [00:08<07:02,  4.31s/it]INFO:pytorch_pretrained_biggan.utils:Saving image to Einstein_iter_2_0.png\n",
      "  3%|▎         | 3/100 [00:13<07:05,  4.38s/it]INFO:pytorch_pretrained_biggan.utils:Saving image to Einstein_iter_3_0.png\n",
      "  4%|▍         | 4/100 [00:17<06:45,  4.22s/it]INFO:pytorch_pretrained_biggan.utils:Saving image to Einstein_iter_4_0.png\n",
      "  5%|▌         | 5/100 [00:20<06:10,  3.90s/it]INFO:pytorch_pretrained_biggan.utils:Saving image to Einstein_iter_5_0.png\n",
      "  6%|▌         | 6/100 [00:23<05:31,  3.53s/it]INFO:pytorch_pretrained_biggan.utils:Saving image to Einstein_iter_6_0.png\n",
      "  7%|▋         | 7/100 [00:26<05:12,  3.36s/it]INFO:pytorch_pretrained_biggan.utils:Saving image to Einstein_iter_7_0.png\n",
      "  8%|▊         | 8/100 [00:28<04:55,  3.21s/it]INFO:pytorch_pretrained_biggan.utils:Saving image to Einstein_iter_8_0.png\n",
      "  9%|▉         | 9/100 [00:33<05:17,  3.49s/it]INFO:pytorch_pretrained_biggan.utils:Saving image to Einstein_iter_9_0.png\n",
      " 10%|█         | 10/100 [00:36<05:00,  3.34s/it]INFO:pytorch_pretrained_biggan.utils:Saving image to Einstein_iter_10_0.png\n",
      " 11%|█         | 11/100 [00:39<04:45,  3.21s/it]INFO:pytorch_pretrained_biggan.utils:Saving image to Einstein_iter_11_0.png\n",
      " 12%|█▏        | 12/100 [00:46<05:42,  3.89s/it]\n"
     ]
    },
    {
     "output_type": "error",
     "ename": "KeyboardInterrupt",
     "evalue": "",
     "traceback": [
      "\u001b[0;31m---------------------------------------------------------------------------\u001b[0m",
      "\u001b[0;31mKeyboardInterrupt\u001b[0m                         Traceback (most recent call last)",
      "\u001b[0;32m<ipython-input-14-5a8fc2dede8f>\u001b[0m in \u001b[0;36m<module>\u001b[0;34m\u001b[0m\n\u001b[1;32m     17\u001b[0m \u001b[0;34m\u001b[0m\u001b[0m\n\u001b[1;32m     18\u001b[0m     \u001b[0mloss\u001b[0m \u001b[0;34m=\u001b[0m \u001b[0msemantic_loss\u001b[0m \u001b[0;34m+\u001b[0m \u001b[0;36m200\u001b[0m \u001b[0;34m*\u001b[0m \u001b[0mpixel_loss\u001b[0m\u001b[0;34m\u001b[0m\u001b[0;34m\u001b[0m\u001b[0m\n\u001b[0;32m---> 19\u001b[0;31m     \u001b[0mloss\u001b[0m\u001b[0;34m.\u001b[0m\u001b[0mbackward\u001b[0m\u001b[0;34m(\u001b[0m\u001b[0;34m)\u001b[0m\u001b[0;34m\u001b[0m\u001b[0;34m\u001b[0m\u001b[0m\n\u001b[0m\u001b[1;32m     20\u001b[0m     \u001b[0mnoise_optim\u001b[0m\u001b[0;34m.\u001b[0m\u001b[0mstep\u001b[0m\u001b[0;34m(\u001b[0m\u001b[0;34m)\u001b[0m\u001b[0;34m\u001b[0m\u001b[0;34m\u001b[0m\u001b[0m\n\u001b[1;32m     21\u001b[0m \u001b[0;34m\u001b[0m\u001b[0m\n",
      "\u001b[0;32m/opt/anaconda3/lib/python3.8/site-packages/torch/tensor.py\u001b[0m in \u001b[0;36mbackward\u001b[0;34m(self, gradient, retain_graph, create_graph)\u001b[0m\n\u001b[1;32m    219\u001b[0m                 \u001b[0mretain_graph\u001b[0m\u001b[0;34m=\u001b[0m\u001b[0mretain_graph\u001b[0m\u001b[0;34m,\u001b[0m\u001b[0;34m\u001b[0m\u001b[0;34m\u001b[0m\u001b[0m\n\u001b[1;32m    220\u001b[0m                 create_graph=create_graph)\n\u001b[0;32m--> 221\u001b[0;31m         \u001b[0mtorch\u001b[0m\u001b[0;34m.\u001b[0m\u001b[0mautograd\u001b[0m\u001b[0;34m.\u001b[0m\u001b[0mbackward\u001b[0m\u001b[0;34m(\u001b[0m\u001b[0mself\u001b[0m\u001b[0;34m,\u001b[0m \u001b[0mgradient\u001b[0m\u001b[0;34m,\u001b[0m \u001b[0mretain_graph\u001b[0m\u001b[0;34m,\u001b[0m \u001b[0mcreate_graph\u001b[0m\u001b[0;34m)\u001b[0m\u001b[0;34m\u001b[0m\u001b[0;34m\u001b[0m\u001b[0m\n\u001b[0m\u001b[1;32m    222\u001b[0m \u001b[0;34m\u001b[0m\u001b[0m\n\u001b[1;32m    223\u001b[0m     \u001b[0;32mdef\u001b[0m \u001b[0mregister_hook\u001b[0m\u001b[0;34m(\u001b[0m\u001b[0mself\u001b[0m\u001b[0;34m,\u001b[0m \u001b[0mhook\u001b[0m\u001b[0;34m)\u001b[0m\u001b[0;34m:\u001b[0m\u001b[0;34m\u001b[0m\u001b[0;34m\u001b[0m\u001b[0m\n",
      "\u001b[0;32m/opt/anaconda3/lib/python3.8/site-packages/torch/autograd/__init__.py\u001b[0m in \u001b[0;36mbackward\u001b[0;34m(tensors, grad_tensors, retain_graph, create_graph, grad_variables)\u001b[0m\n\u001b[1;32m    128\u001b[0m         \u001b[0mretain_graph\u001b[0m \u001b[0;34m=\u001b[0m \u001b[0mcreate_graph\u001b[0m\u001b[0;34m\u001b[0m\u001b[0;34m\u001b[0m\u001b[0m\n\u001b[1;32m    129\u001b[0m \u001b[0;34m\u001b[0m\u001b[0m\n\u001b[0;32m--> 130\u001b[0;31m     Variable._execution_engine.run_backward(\n\u001b[0m\u001b[1;32m    131\u001b[0m         \u001b[0mtensors\u001b[0m\u001b[0;34m,\u001b[0m \u001b[0mgrad_tensors_\u001b[0m\u001b[0;34m,\u001b[0m \u001b[0mretain_graph\u001b[0m\u001b[0;34m,\u001b[0m \u001b[0mcreate_graph\u001b[0m\u001b[0;34m,\u001b[0m\u001b[0;34m\u001b[0m\u001b[0;34m\u001b[0m\u001b[0m\n\u001b[1;32m    132\u001b[0m         allow_unreachable=True)  # allow_unreachable flag\n",
      "\u001b[0;31mKeyboardInterrupt\u001b[0m: "
     ]
    }
   ],
   "source": [
    "L = []\n",
    "L_pixel = []\n",
    "L_semantic = []\n",
    "truncation = 0.5\n",
    "\n",
    "for iteration in trange(0, 100):\n",
    "    noise_optim.zero_grad()\n",
    "\n",
    "    y_hat = model(noise, class_vector, truncation)\n",
    "\n",
    "    semantic_loss = -((semantic_model(y_hat) - semantic_model(output)) ** 2).mean() ** .5 #-cos_sim(semantic_model(y_hat), semantic_model(output))\n",
    "    L_semantic.append(semantic_loss.item())\n",
    "\n",
    "    pixel_loss = abs(y_hat - einstein).mean()\n",
    "    L_pixel.append(pixel_loss)\n",
    "\n",
    "    loss = semantic_loss + 200 * pixel_loss\n",
    "    loss.backward()\n",
    "    noise_optim.step()\n",
    "\n",
    "    L.append(loss.item())\n",
    "\n",
    "    save_as_images(y_hat, f\"Einstein_iter_{iteration}\")\n",
    "\n"
   ]
  },
  {
   "cell_type": "code",
   "execution_count": 14,
   "metadata": {},
   "outputs": [
    {
     "output_type": "display_data",
     "data": {
      "text/plain": "<Figure size 432x288 with 1 Axes>",
      "image/png": "[encoded data removed]"
     },
     "metadata": {
      "needs_background": "light"
     }
    }
   ],
   "source": [
    "import matplotlib.pyplot as plt\n",
    "\n",
    "plt.plot(L)\n",
    "plt.plot(L_pixel, 'r')\n",
    "plt.plot(L_semantic, 'y')\n",
    "\n",
    "plt.show()"
   ]
  },
  {
   "cell_type": "code",
   "execution_count": 20,
   "metadata": {},
   "outputs": [
    {
     "output_type": "execute_result",
     "data": {
      "text/plain": [
       "tensor(0.3554, grad_fn=<MeanBackward0>)"
      ]
     },
     "metadata": {},
     "execution_count": 20
    }
   ],
   "source": [
    "pixel_loss"
   ]
  },
  {
   "cell_type": "code",
   "execution_count": 23,
   "metadata": {},
   "outputs": [
    {
     "output_type": "execute_result",
     "data": {
      "text/plain": [
       "torch.Size([1, 3, 128, 128])"
      ]
     },
     "metadata": {},
     "execution_count": 23
    }
   ],
   "source": [
    "from PIL import Image\n",
    "from torchvision import transforms\n",
    "\n",
    "img = Image.open(\"./img02.jpg\")\n",
    "einstein = transforms.ToTensor()(img).unsqueeze_(0)\n",
    "einstein.shape"
   ]
  },
  {
   "cell_type": "code",
   "execution_count": 46,
   "metadata": {},
   "outputs": [
    {
     "output_type": "stream",
     "name": "stderr",
     "text": [
      "  0%|          | 0/100 [00:00<?, ?it/s]INFO:pytorch_pretrained_biggan.utils:Saving image to Einstein_iter_0_0.png\n",
      "  1%|          | 1/100 [00:04<07:10,  4.35s/it]INFO:pytorch_pretrained_biggan.utils:Saving image to Einstein_iter_1_0.png\n",
      "  2%|▏         | 2/100 [00:07<06:25,  3.93s/it]INFO:pytorch_pretrained_biggan.utils:Saving image to Einstein_iter_2_0.png\n",
      "  3%|▎         | 3/100 [00:09<05:42,  3.53s/it]INFO:pytorch_pretrained_biggan.utils:Saving image to Einstein_iter_3_0.png\n",
      "  4%|▍         | 4/100 [00:12<05:11,  3.24s/it]INFO:pytorch_pretrained_biggan.utils:Saving image to Einstein_iter_4_0.png\n",
      "  5%|▌         | 5/100 [00:15<05:11,  3.28s/it]INFO:pytorch_pretrained_biggan.utils:Saving image to Einstein_iter_5_0.png\n",
      "  6%|▌         | 6/100 [00:19<05:05,  3.25s/it]INFO:pytorch_pretrained_biggan.utils:Saving image to Einstein_iter_6_0.png\n",
      "  7%|▋         | 7/100 [00:21<04:48,  3.10s/it]INFO:pytorch_pretrained_biggan.utils:Saving image to Einstein_iter_7_0.png\n",
      "  8%|▊         | 8/100 [00:24<04:41,  3.06s/it]INFO:pytorch_pretrained_biggan.utils:Saving image to Einstein_iter_8_0.png\n",
      "  9%|▉         | 9/100 [00:27<04:37,  3.05s/it]INFO:pytorch_pretrained_biggan.utils:Saving image to Einstein_iter_9_0.png\n",
      " 10%|█         | 10/100 [00:31<04:43,  3.15s/it]INFO:pytorch_pretrained_biggan.utils:Saving image to Einstein_iter_10_0.png\n",
      " 11%|█         | 11/100 [00:33<04:30,  3.04s/it]INFO:pytorch_pretrained_biggan.utils:Saving image to Einstein_iter_11_0.png\n",
      " 12%|█▏        | 12/100 [00:36<04:15,  2.91s/it]INFO:pytorch_pretrained_biggan.utils:Saving image to Einstein_iter_12_0.png\n",
      " 13%|█▎        | 13/100 [00:39<04:05,  2.82s/it]INFO:pytorch_pretrained_biggan.utils:Saving image to Einstein_iter_13_0.png\n",
      " 14%|█▍        | 14/100 [00:41<03:57,  2.76s/it]INFO:pytorch_pretrained_biggan.utils:Saving image to Einstein_iter_14_0.png\n",
      " 15%|█▌        | 15/100 [00:44<03:50,  2.71s/it]INFO:pytorch_pretrained_biggan.utils:Saving image to Einstein_iter_15_0.png\n",
      " 16%|█▌        | 16/100 [00:46<03:45,  2.68s/it]INFO:pytorch_pretrained_biggan.utils:Saving image to Einstein_iter_16_0.png\n",
      " 17%|█▋        | 17/100 [00:49<03:40,  2.66s/it]INFO:pytorch_pretrained_biggan.utils:Saving image to Einstein_iter_17_0.png\n",
      " 18%|█▊        | 18/100 [00:52<03:36,  2.64s/it]INFO:pytorch_pretrained_biggan.utils:Saving image to Einstein_iter_18_0.png\n",
      " 19%|█▉        | 19/100 [00:54<03:38,  2.69s/it]INFO:pytorch_pretrained_biggan.utils:Saving image to Einstein_iter_19_0.png\n",
      " 20%|██        | 20/100 [00:57<03:40,  2.76s/it]INFO:pytorch_pretrained_biggan.utils:Saving image to Einstein_iter_20_0.png\n",
      " 21%|██        | 21/100 [01:00<03:34,  2.72s/it]INFO:pytorch_pretrained_biggan.utils:Saving image to Einstein_iter_21_0.png\n",
      " 22%|██▏       | 22/100 [01:03<03:29,  2.69s/it]INFO:pytorch_pretrained_biggan.utils:Saving image to Einstein_iter_22_0.png\n",
      " 23%|██▎       | 23/100 [01:06<03:52,  3.02s/it]INFO:pytorch_pretrained_biggan.utils:Saving image to Einstein_iter_23_0.png\n",
      " 24%|██▍       | 24/100 [01:10<04:05,  3.23s/it]INFO:pytorch_pretrained_biggan.utils:Saving image to Einstein_iter_24_0.png\n",
      " 25%|██▌       | 25/100 [01:13<03:59,  3.20s/it]INFO:pytorch_pretrained_biggan.utils:Saving image to Einstein_iter_25_0.png\n",
      " 26%|██▌       | 26/100 [01:18<04:39,  3.77s/it]INFO:pytorch_pretrained_biggan.utils:Saving image to Einstein_iter_26_0.png\n",
      " 27%|██▋       | 27/100 [01:22<04:26,  3.65s/it]INFO:pytorch_pretrained_biggan.utils:Saving image to Einstein_iter_27_0.png\n",
      " 28%|██▊       | 28/100 [01:25<04:07,  3.44s/it]INFO:pytorch_pretrained_biggan.utils:Saving image to Einstein_iter_28_0.png\n",
      " 29%|██▉       | 29/100 [01:28<03:53,  3.29s/it]INFO:pytorch_pretrained_biggan.utils:Saving image to Einstein_iter_29_0.png\n",
      " 30%|███       | 30/100 [01:31<03:45,  3.22s/it]INFO:pytorch_pretrained_biggan.utils:Saving image to Einstein_iter_30_0.png\n",
      " 31%|███       | 31/100 [01:34<03:35,  3.13s/it]INFO:pytorch_pretrained_biggan.utils:Saving image to Einstein_iter_31_0.png\n",
      " 32%|███▏      | 32/100 [01:36<03:23,  3.00s/it]INFO:pytorch_pretrained_biggan.utils:Saving image to Einstein_iter_32_0.png\n",
      " 33%|███▎      | 33/100 [01:40<03:37,  3.25s/it]INFO:pytorch_pretrained_biggan.utils:Saving image to Einstein_iter_33_0.png\n",
      " 34%|███▍      | 34/100 [01:43<03:25,  3.12s/it]INFO:pytorch_pretrained_biggan.utils:Saving image to Einstein_iter_34_0.png\n",
      " 35%|███▌      | 35/100 [01:46<03:22,  3.12s/it]INFO:pytorch_pretrained_biggan.utils:Saving image to Einstein_iter_35_0.png\n",
      " 36%|███▌      | 36/100 [01:50<03:35,  3.36s/it]INFO:pytorch_pretrained_biggan.utils:Saving image to Einstein_iter_36_0.png\n",
      " 37%|███▋      | 37/100 [01:54<03:44,  3.56s/it]INFO:pytorch_pretrained_biggan.utils:Saving image to Einstein_iter_37_0.png\n",
      " 38%|███▊      | 38/100 [01:59<04:06,  3.98s/it]INFO:pytorch_pretrained_biggan.utils:Saving image to Einstein_iter_38_0.png\n",
      " 39%|███▉      | 39/100 [02:02<03:43,  3.67s/it]INFO:pytorch_pretrained_biggan.utils:Saving image to Einstein_iter_39_0.png\n",
      " 40%|████      | 40/100 [02:05<03:37,  3.63s/it]INFO:pytorch_pretrained_biggan.utils:Saving image to Einstein_iter_40_0.png\n",
      " 41%|████      | 41/100 [02:08<03:17,  3.35s/it]INFO:pytorch_pretrained_biggan.utils:Saving image to Einstein_iter_41_0.png\n",
      " 42%|████▏     | 42/100 [02:12<03:27,  3.58s/it]INFO:pytorch_pretrained_biggan.utils:Saving image to Einstein_iter_42_0.png\n",
      " 43%|████▎     | 43/100 [02:16<03:28,  3.65s/it]INFO:pytorch_pretrained_biggan.utils:Saving image to Einstein_iter_43_0.png\n",
      " 44%|████▍     | 44/100 [02:21<03:38,  3.91s/it]INFO:pytorch_pretrained_biggan.utils:Saving image to Einstein_iter_44_0.png\n",
      " 45%|████▌     | 45/100 [02:25<03:40,  4.00s/it]INFO:pytorch_pretrained_biggan.utils:Saving image to Einstein_iter_45_0.png\n",
      " 46%|████▌     | 46/100 [02:29<03:45,  4.17s/it]INFO:pytorch_pretrained_biggan.utils:Saving image to Einstein_iter_46_0.png\n",
      " 47%|████▋     | 47/100 [02:33<03:39,  4.13s/it]INFO:pytorch_pretrained_biggan.utils:Saving image to Einstein_iter_47_0.png\n",
      " 48%|████▊     | 48/100 [02:37<03:21,  3.87s/it]INFO:pytorch_pretrained_biggan.utils:Saving image to Einstein_iter_48_0.png\n",
      " 49%|████▉     | 49/100 [02:40<03:02,  3.58s/it]INFO:pytorch_pretrained_biggan.utils:Saving image to Einstein_iter_49_0.png\n",
      " 50%|█████     | 50/100 [02:43<02:59,  3.59s/it]INFO:pytorch_pretrained_biggan.utils:Saving image to Einstein_iter_50_0.png\n",
      " 51%|█████     | 51/100 [02:47<03:04,  3.76s/it]INFO:pytorch_pretrained_biggan.utils:Saving image to Einstein_iter_51_0.png\n",
      " 52%|█████▏    | 52/100 [02:50<02:43,  3.40s/it]INFO:pytorch_pretrained_biggan.utils:Saving image to Einstein_iter_52_0.png\n",
      " 53%|█████▎    | 53/100 [02:53<02:30,  3.21s/it]INFO:pytorch_pretrained_biggan.utils:Saving image to Einstein_iter_53_0.png\n",
      " 54%|█████▍    | 54/100 [02:55<02:19,  3.04s/it]INFO:pytorch_pretrained_biggan.utils:Saving image to Einstein_iter_54_0.png\n",
      " 55%|█████▌    | 55/100 [02:58<02:08,  2.86s/it]INFO:pytorch_pretrained_biggan.utils:Saving image to Einstein_iter_55_0.png\n",
      " 56%|█████▌    | 56/100 [03:01<02:08,  2.91s/it]INFO:pytorch_pretrained_biggan.utils:Saving image to Einstein_iter_56_0.png\n",
      " 57%|█████▋    | 57/100 [03:04<02:06,  2.93s/it]INFO:pytorch_pretrained_biggan.utils:Saving image to Einstein_iter_57_0.png\n",
      " 58%|█████▊    | 58/100 [03:06<01:59,  2.84s/it]INFO:pytorch_pretrained_biggan.utils:Saving image to Einstein_iter_58_0.png\n",
      " 59%|█████▉    | 59/100 [03:09<01:57,  2.86s/it]INFO:pytorch_pretrained_biggan.utils:Saving image to Einstein_iter_59_0.png\n",
      " 60%|██████    | 60/100 [03:12<01:52,  2.80s/it]INFO:pytorch_pretrained_biggan.utils:Saving image to Einstein_iter_60_0.png\n",
      " 61%|██████    | 61/100 [03:15<01:51,  2.85s/it]INFO:pytorch_pretrained_biggan.utils:Saving image to Einstein_iter_61_0.png\n",
      " 62%|██████▏   | 62/100 [03:18<01:55,  3.05s/it]INFO:pytorch_pretrained_biggan.utils:Saving image to Einstein_iter_62_0.png\n",
      " 63%|██████▎   | 63/100 [03:22<01:53,  3.08s/it]INFO:pytorch_pretrained_biggan.utils:Saving image to Einstein_iter_63_0.png\n",
      " 64%|██████▍   | 64/100 [03:25<01:51,  3.10s/it]INFO:pytorch_pretrained_biggan.utils:Saving image to Einstein_iter_64_0.png\n",
      " 65%|██████▌   | 65/100 [03:28<01:45,  3.02s/it]INFO:pytorch_pretrained_biggan.utils:Saving image to Einstein_iter_65_0.png\n",
      " 66%|██████▌   | 66/100 [03:31<01:47,  3.17s/it]INFO:pytorch_pretrained_biggan.utils:Saving image to Einstein_iter_66_0.png\n",
      " 67%|██████▋   | 67/100 [03:36<02:01,  3.67s/it]INFO:pytorch_pretrained_biggan.utils:Saving image to Einstein_iter_67_0.png\n",
      " 68%|██████▊   | 68/100 [03:40<01:56,  3.65s/it]INFO:pytorch_pretrained_biggan.utils:Saving image to Einstein_iter_68_0.png\n",
      " 69%|██████▉   | 69/100 [03:42<01:44,  3.38s/it]INFO:pytorch_pretrained_biggan.utils:Saving image to Einstein_iter_69_0.png\n",
      " 70%|███████   | 70/100 [03:45<01:36,  3.22s/it]INFO:pytorch_pretrained_biggan.utils:Saving image to Einstein_iter_70_0.png\n",
      " 71%|███████   | 71/100 [03:49<01:38,  3.38s/it]INFO:pytorch_pretrained_biggan.utils:Saving image to Einstein_iter_71_0.png\n",
      " 72%|███████▏  | 72/100 [03:52<01:36,  3.44s/it]INFO:pytorch_pretrained_biggan.utils:Saving image to Einstein_iter_72_0.png\n",
      " 73%|███████▎  | 73/100 [03:57<01:41,  3.77s/it]INFO:pytorch_pretrained_biggan.utils:Saving image to Einstein_iter_73_0.png\n",
      " 74%|███████▍  | 74/100 [04:01<01:38,  3.80s/it]INFO:pytorch_pretrained_biggan.utils:Saving image to Einstein_iter_74_0.png\n",
      " 75%|███████▌  | 75/100 [04:04<01:32,  3.69s/it]INFO:pytorch_pretrained_biggan.utils:Saving image to Einstein_iter_75_0.png\n",
      " 76%|███████▌  | 76/100 [04:08<01:31,  3.82s/it]INFO:pytorch_pretrained_biggan.utils:Saving image to Einstein_iter_76_0.png\n",
      " 77%|███████▋  | 77/100 [04:13<01:30,  3.92s/it]INFO:pytorch_pretrained_biggan.utils:Saving image to Einstein_iter_77_0.png\n",
      " 78%|███████▊  | 78/100 [04:16<01:23,  3.78s/it]INFO:pytorch_pretrained_biggan.utils:Saving image to Einstein_iter_78_0.png\n",
      " 79%|███████▉  | 79/100 [04:19<01:13,  3.52s/it]INFO:pytorch_pretrained_biggan.utils:Saving image to Einstein_iter_79_0.png\n",
      " 80%|████████  | 80/100 [04:22<01:07,  3.38s/it]INFO:pytorch_pretrained_biggan.utils:Saving image to Einstein_iter_80_0.png\n",
      " 81%|████████  | 81/100 [04:26<01:05,  3.45s/it]INFO:pytorch_pretrained_biggan.utils:Saving image to Einstein_iter_81_0.png\n",
      " 82%|████████▏ | 82/100 [04:29<00:59,  3.31s/it]INFO:pytorch_pretrained_biggan.utils:Saving image to Einstein_iter_82_0.png\n",
      " 83%|████████▎ | 83/100 [04:32<00:54,  3.19s/it]INFO:pytorch_pretrained_biggan.utils:Saving image to Einstein_iter_83_0.png\n",
      " 84%|████████▍ | 84/100 [04:34<00:49,  3.10s/it]INFO:pytorch_pretrained_biggan.utils:Saving image to Einstein_iter_84_0.png\n",
      " 85%|████████▌ | 85/100 [04:37<00:44,  3.00s/it]INFO:pytorch_pretrained_biggan.utils:Saving image to Einstein_iter_85_0.png\n",
      " 86%|████████▌ | 86/100 [04:40<00:42,  3.04s/it]INFO:pytorch_pretrained_biggan.utils:Saving image to Einstein_iter_86_0.png\n",
      " 87%|████████▋ | 87/100 [04:43<00:37,  2.90s/it]INFO:pytorch_pretrained_biggan.utils:Saving image to Einstein_iter_87_0.png\n",
      " 88%|████████▊ | 88/100 [04:45<00:33,  2.76s/it]INFO:pytorch_pretrained_biggan.utils:Saving image to Einstein_iter_88_0.png\n",
      " 89%|████████▉ | 89/100 [04:48<00:30,  2.76s/it]INFO:pytorch_pretrained_biggan.utils:Saving image to Einstein_iter_89_0.png\n",
      " 90%|█████████ | 90/100 [04:51<00:27,  2.80s/it]INFO:pytorch_pretrained_biggan.utils:Saving image to Einstein_iter_90_0.png\n",
      " 91%|█████████ | 91/100 [04:54<00:26,  2.98s/it]INFO:pytorch_pretrained_biggan.utils:Saving image to Einstein_iter_91_0.png\n",
      " 92%|█████████▏| 92/100 [04:58<00:24,  3.12s/it]INFO:pytorch_pretrained_biggan.utils:Saving image to Einstein_iter_92_0.png\n",
      " 93%|█████████▎| 93/100 [05:01<00:22,  3.23s/it]INFO:pytorch_pretrained_biggan.utils:Saving image to Einstein_iter_93_0.png\n",
      " 94%|█████████▍| 94/100 [05:05<00:19,  3.27s/it]INFO:pytorch_pretrained_biggan.utils:Saving image to Einstein_iter_94_0.png\n",
      " 95%|█████████▌| 95/100 [05:08<00:17,  3.41s/it]INFO:pytorch_pretrained_biggan.utils:Saving image to Einstein_iter_95_0.png\n",
      " 96%|█████████▌| 96/100 [05:13<00:15,  3.90s/it]INFO:pytorch_pretrained_biggan.utils:Saving image to Einstein_iter_96_0.png\n",
      " 97%|█████████▋| 97/100 [05:18<00:12,  4.08s/it]INFO:pytorch_pretrained_biggan.utils:Saving image to Einstein_iter_97_0.png\n",
      " 98%|█████████▊| 98/100 [05:22<00:08,  4.01s/it]INFO:pytorch_pretrained_biggan.utils:Saving image to Einstein_iter_98_0.png\n",
      " 99%|█████████▉| 99/100 [05:26<00:04,  4.01s/it]INFO:pytorch_pretrained_biggan.utils:Saving image to Einstein_iter_99_0.png\n",
      "100%|██████████| 100/100 [05:29<00:00,  3.29s/it]\n"
     ]
    }
   ],
   "source": [
    "from torchvision.models import squeezenet1_0\n",
    "\n",
    "semantic_model = squeezenet1_0(pretrained=True).to(DEVICE)\n",
    "semantic_model.classifier = torch.nn.Sequential(\n",
    "    torch.nn.Flatten()\n",
    "    )\n",
    "semantic_model = semantic_model.eval()\n",
    "\n",
    "trunction = 0.5\n",
    "noise = truncated_noise_sample(truncation=truncation, batch_size=1, seed=2)\n",
    "noise = torch.nn.Parameter(torch.tensor(noise, requires_grad=True).float().to(DEVICE))\n",
    "noise_optim = torch.optim.Adam([noise], lr=0.05)\n",
    "\n",
    "class_vector = one_hot_from_names(['macaque'], batch_size=1)\n",
    "class_vector = torch.from_numpy(class_vector)\n",
    "\n",
    "L = []\n",
    "L_pixel = []\n",
    "L_semantic = []\n",
    "truncation = 0.5\n",
    "\n",
    "for iteration in trange(0, 200):\n",
    "    noise_optim.zero_grad()\n",
    "\n",
    "    y_hat = model(noise, class_vector, truncation)\n",
    "\n",
    "    semantic_loss = ((semantic_model(y_hat) - semantic_model(einstein)) ** 2).mean() ** .5 #-cos_sim(semantic_model(y_hat), semantic_model(output))\n",
    "    L_semantic.append(semantic_loss.item())\n",
    "\n",
    "    pixel_loss = abs(y_hat - einstein).mean()\n",
    "    L_pixel.append(pixel_loss.item())\n",
    "\n",
    "    loss = semantic_loss + 30 * pixel_loss\n",
    "    L.append(loss.item())\n",
    "\n",
    "    loss.backward()\n",
    "    noise_optim.step()\n",
    "\n",
    "    \n",
    "\n",
    "    save_as_images(y_hat, f\"Einstein_iter_{iteration}\")"
   ]
  },
  {
   "cell_type": "code",
   "execution_count": 47,
   "metadata": {},
   "outputs": [
    {
     "output_type": "display_data",
     "data": {
      "text/plain": "<Figure size 432x288 with 1 Axes>",
      "image/png": "[encoded data removed]"
     },
     "metadata": {
      "needs_background": "light"
     }
    }
   ],
   "source": [
    "import matplotlib.pyplot as plt\n",
    "\n",
    "plt.plot(L)\n",
    "plt.plot([x*30 for x in L_pixel], 'r')\n",
    "plt.plot(L_semantic, 'b')\n",
    "\n",
    "plt.show()"
   ]
  },
  {
   "cell_type": "code",
   "execution_count": 59,
   "metadata": {},
   "outputs": [],
   "source": [
    "from PIL import Image\n",
    "from torchvision import transforms\n",
    "\n",
    "img = Image.open(\"./img03.jpg\")\n",
    "scratch_head = transforms.ToTensor()(img).unsqueeze_(0)"
   ]
  },
  {
   "cell_type": "code",
   "execution_count": 62,
   "metadata": {},
   "outputs": [
    {
     "output_type": "stream",
     "name": "stderr",
     "text": [
      "  0%|          | 0/100 [00:00<?, ?it/s]INFO:pytorch_pretrained_biggan.utils:Saving image to scratch_head_0_0.png\n",
      "  5%|▌         | 5/100 [00:22<07:20,  4.64s/it]INFO:pytorch_pretrained_biggan.utils:Saving image to scratch_head_5_0.png\n",
      " 10%|█         | 10/100 [00:42<05:29,  3.66s/it]INFO:pytorch_pretrained_biggan.utils:Saving image to scratch_head_10_0.png\n",
      " 15%|█▌        | 15/100 [00:59<05:11,  3.66s/it]INFO:pytorch_pretrained_biggan.utils:Saving image to scratch_head_15_0.png\n",
      " 20%|██        | 20/100 [01:17<04:47,  3.60s/it]INFO:pytorch_pretrained_biggan.utils:Saving image to scratch_head_20_0.png\n",
      " 25%|██▌       | 25/100 [01:32<03:44,  2.99s/it]INFO:pytorch_pretrained_biggan.utils:Saving image to scratch_head_25_0.png\n",
      " 30%|███       | 30/100 [01:50<04:07,  3.53s/it]INFO:pytorch_pretrained_biggan.utils:Saving image to scratch_head_30_0.png\n",
      " 35%|███▌      | 35/100 [02:06<03:51,  3.57s/it]INFO:pytorch_pretrained_biggan.utils:Saving image to scratch_head_35_0.png\n",
      " 40%|████      | 40/100 [02:35<05:13,  5.23s/it]INFO:pytorch_pretrained_biggan.utils:Saving image to scratch_head_40_0.png\n",
      " 45%|████▌     | 45/100 [02:53<03:20,  3.65s/it]INFO:pytorch_pretrained_biggan.utils:Saving image to scratch_head_45_0.png\n",
      " 50%|█████     | 50/100 [03:11<02:52,  3.44s/it]INFO:pytorch_pretrained_biggan.utils:Saving image to scratch_head_50_0.png\n",
      " 55%|█████▌    | 55/100 [03:36<03:46,  5.04s/it]INFO:pytorch_pretrained_biggan.utils:Saving image to scratch_head_55_0.png\n",
      " 60%|██████    | 60/100 [03:58<02:56,  4.42s/it]INFO:pytorch_pretrained_biggan.utils:Saving image to scratch_head_60_0.png\n",
      " 65%|██████▌   | 65/100 [04:17<02:30,  4.30s/it]INFO:pytorch_pretrained_biggan.utils:Saving image to scratch_head_65_0.png\n",
      " 70%|███████   | 70/100 [04:36<01:48,  3.60s/it]INFO:pytorch_pretrained_biggan.utils:Saving image to scratch_head_70_0.png\n",
      " 75%|███████▌  | 75/100 [04:56<01:35,  3.81s/it]INFO:pytorch_pretrained_biggan.utils:Saving image to scratch_head_75_0.png\n",
      " 80%|████████  | 80/100 [05:16<01:17,  3.89s/it]INFO:pytorch_pretrained_biggan.utils:Saving image to scratch_head_80_0.png\n",
      " 85%|████████▌ | 85/100 [05:42<01:05,  4.39s/it]INFO:pytorch_pretrained_biggan.utils:Saving image to scratch_head_85_0.png\n",
      " 90%|█████████ | 90/100 [05:59<00:36,  3.62s/it]INFO:pytorch_pretrained_biggan.utils:Saving image to scratch_head_90_0.png\n",
      " 95%|█████████▌| 95/100 [06:21<00:20,  4.17s/it]INFO:pytorch_pretrained_biggan.utils:Saving image to scratch_head_95_0.png\n",
      "100%|██████████| 100/100 [06:53<00:00,  4.14s/it]\n"
     ]
    }
   ],
   "source": [
    "from torchvision.models import squeezenet1_0\n",
    "\n",
    "semantic_model = squeezenet1_0(pretrained=True).to(DEVICE)\n",
    "semantic_model.classifier = torch.nn.Sequential(\n",
    "    torch.nn.Flatten()\n",
    "    )\n",
    "semantic_model = semantic_model.eval()\n",
    "\n",
    "trunction = 0.5\n",
    "noise = truncated_noise_sample(truncation=truncation, batch_size=1, seed=9)\n",
    "noise = torch.nn.Parameter(torch.tensor(noise, requires_grad=True).float().to(DEVICE))\n",
    "noise_optim = torch.optim.Adam([noise], lr=0.05)\n",
    "\n",
    "class_vector = one_hot_from_names(['macaque'], batch_size=1)\n",
    "class_vector = torch.from_numpy(class_vector)\n",
    "\n",
    "L = []\n",
    "L_pixel = []\n",
    "L_semantic = []\n",
    "truncation = 0.5\n",
    "\n",
    "for iteration in trange(0, 100):\n",
    "    noise_optim.zero_grad()\n",
    "\n",
    "    y_hat = model(noise, class_vector, truncation)\n",
    "\n",
    "    semantic_loss = ((semantic_model(y_hat) - semantic_model(scratch_head)) ** 2).mean() ** .5 #-cos_sim(semantic_model(y_hat), semantic_model(output))\n",
    "    L_semantic.append(semantic_loss.item())\n",
    "\n",
    "    pixel_loss = abs(y_hat - scratch_head).mean()\n",
    "    L_pixel.append(pixel_loss.item())\n",
    "\n",
    "    loss = semantic_loss + 60 * pixel_loss\n",
    "    L.append(loss.item())\n",
    "\n",
    "    loss.backward()\n",
    "    noise_optim.step()\n",
    "\n",
    "    if iteration % 5 == 0:\n",
    "        save_as_images(y_hat, f\"scratch_head_{iteration}\")"
   ]
  },
  {
   "cell_type": "code",
   "execution_count": 64,
   "metadata": {},
   "outputs": [
    {
     "output_type": "display_data",
     "data": {
      "text/plain": "<Figure size 432x288 with 1 Axes>",
      "image/png": "[encoded data removed]"
     },
     "metadata": {
      "needs_background": "light"
     }
    }
   ],
   "source": [
    "import matplotlib.pyplot as plt\n",
    "\n",
    "plt.plot(L)\n",
    "plt.plot([x*60 for x in L_pixel], 'r')\n",
    "plt.plot(L_semantic, 'b')\n",
    "\n",
    "plt.show()"
   ]
  },
  {
   "cell_type": "code",
   "execution_count": 73,
   "metadata": {},
   "outputs": [
    {
     "output_type": "stream",
     "name": "stderr",
     "text": [
      "  0%|          | 0/100 [00:00<?, ?it/s]INFO:pytorch_pretrained_biggan.utils:Saving image to chimpanzee_0_0.png\n",
      "  5%|▌         | 5/100 [00:15<05:07,  3.24s/it]INFO:pytorch_pretrained_biggan.utils:Saving image to chimpanzee_5_0.png\n",
      " 10%|█         | 10/100 [00:30<04:35,  3.07s/it]INFO:pytorch_pretrained_biggan.utils:Saving image to chimpanzee_10_0.png\n",
      " 15%|█▌        | 15/100 [00:44<03:47,  2.68s/it]INFO:pytorch_pretrained_biggan.utils:Saving image to chimpanzee_15_0.png\n",
      " 20%|██        | 20/100 [00:56<03:14,  2.43s/it]INFO:pytorch_pretrained_biggan.utils:Saving image to chimpanzee_20_0.png\n",
      " 25%|██▌       | 25/100 [01:08<02:59,  2.39s/it]INFO:pytorch_pretrained_biggan.utils:Saving image to chimpanzee_25_0.png\n",
      " 30%|███       | 30/100 [01:20<02:48,  2.41s/it]INFO:pytorch_pretrained_biggan.utils:Saving image to chimpanzee_30_0.png\n",
      " 35%|███▌      | 35/100 [01:32<02:35,  2.40s/it]INFO:pytorch_pretrained_biggan.utils:Saving image to chimpanzee_35_0.png\n",
      " 40%|████      | 40/100 [01:44<02:23,  2.40s/it]INFO:pytorch_pretrained_biggan.utils:Saving image to chimpanzee_40_0.png\n",
      " 45%|████▌     | 45/100 [01:56<02:11,  2.39s/it]INFO:pytorch_pretrained_biggan.utils:Saving image to chimpanzee_45_0.png\n",
      " 50%|█████     | 50/100 [02:08<01:59,  2.38s/it]INFO:pytorch_pretrained_biggan.utils:Saving image to chimpanzee_50_0.png\n",
      " 55%|█████▌    | 55/100 [02:20<01:51,  2.48s/it]INFO:pytorch_pretrained_biggan.utils:Saving image to chimpanzee_55_0.png\n",
      " 60%|██████    | 60/100 [02:32<01:36,  2.41s/it]INFO:pytorch_pretrained_biggan.utils:Saving image to chimpanzee_60_0.png\n",
      " 65%|██████▌   | 65/100 [02:44<01:24,  2.41s/it]INFO:pytorch_pretrained_biggan.utils:Saving image to chimpanzee_65_0.png\n",
      " 70%|███████   | 70/100 [02:58<01:19,  2.65s/it]INFO:pytorch_pretrained_biggan.utils:Saving image to chimpanzee_70_0.png\n",
      " 75%|███████▌  | 75/100 [03:10<01:01,  2.45s/it]INFO:pytorch_pretrained_biggan.utils:Saving image to chimpanzee_75_0.png\n",
      " 80%|████████  | 80/100 [03:22<00:48,  2.41s/it]INFO:pytorch_pretrained_biggan.utils:Saving image to chimpanzee_80_0.png\n",
      " 85%|████████▌ | 85/100 [03:34<00:36,  2.41s/it]INFO:pytorch_pretrained_biggan.utils:Saving image to chimpanzee_85_0.png\n",
      " 90%|█████████ | 90/100 [03:46<00:24,  2.44s/it]INFO:pytorch_pretrained_biggan.utils:Saving image to chimpanzee_90_0.png\n",
      " 95%|█████████▌| 95/100 [03:58<00:12,  2.41s/it]INFO:pytorch_pretrained_biggan.utils:Saving image to chimpanzee_95_0.png\n",
      "100%|██████████| 100/100 [04:11<00:00,  2.51s/it]\n"
     ]
    }
   ],
   "source": [
    "from PIL import Image\n",
    "from torchvision import transforms\n",
    "\n",
    "img = Image.open(\"./img05.jpg\")\n",
    "target = transforms.ToTensor()(img).unsqueeze_(0)\n",
    "\n",
    "\n",
    "from torchvision.models import squeezenet1_0\n",
    "\n",
    "semantic_model = squeezenet1_0(pretrained=True).to(DEVICE)\n",
    "semantic_model.classifier = torch.nn.Sequential(\n",
    "    torch.nn.Flatten()\n",
    "    )\n",
    "semantic_model = semantic_model.eval()\n",
    "\n",
    "trunction = 0.5\n",
    "noise = truncated_noise_sample(truncation=truncation, batch_size=1, seed=10)\n",
    "noise = torch.nn.Parameter(torch.tensor(noise, requires_grad=True).float().to(DEVICE))\n",
    "noise_optim = torch.optim.Adam([noise], lr=0.05)\n",
    "\n",
    "class_vector = one_hot_from_names(['chimpanzee'], batch_size=1)\n",
    "class_vector = torch.from_numpy(class_vector)\n",
    "\n",
    "L = []\n",
    "L_pixel = []\n",
    "L_semantic = []\n",
    "\n",
    "for iteration in trange(0, 100):\n",
    "    noise_optim.zero_grad()\n",
    "\n",
    "    y_hat = model(noise, class_vector, truncation)\n",
    "\n",
    "    semantic_loss = ((semantic_model(y_hat) - semantic_model(target)) ** 2).mean() ** .5 #-cos_sim(semantic_model(y_hat), semantic_model(output))\n",
    "    L_semantic.append(semantic_loss.item())\n",
    "\n",
    "    pixel_loss = abs(y_hat - target).mean()\n",
    "    L_pixel.append(pixel_loss.item())\n",
    "\n",
    "    loss = semantic_loss + 30 * pixel_loss\n",
    "    L.append(loss.item())\n",
    "\n",
    "    loss.backward()\n",
    "    noise_optim.step()\n",
    "\n",
    "    if iteration % 5 == 0:\n",
    "        save_as_images(y_hat, f\"chimpanzee_{iteration}\")"
   ]
  },
  {
   "cell_type": "code",
   "execution_count": null,
   "metadata": {},
   "outputs": [],
   "source": []
  }
 ]
}